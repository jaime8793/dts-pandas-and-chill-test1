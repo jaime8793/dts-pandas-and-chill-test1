{
 "cells": [
  {
   "cell_type": "code",
   "execution_count": null,
   "id": "bc1fc4ea",
   "metadata": {},
   "outputs": [],
   "source": []
  },
  {
   "cell_type": "markdown",
   "id": "44729d0e",
   "metadata": {},
   "source": [
    "# anything\n"
   ]
  }
 ],
 "metadata": {
  "language_info": {
   "name": "python"
  }
 },
 "nbformat": 4,
 "nbformat_minor": 5
}

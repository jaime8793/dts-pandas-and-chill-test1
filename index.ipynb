{
 "cells": [
  {
   "cell_type": "markdown",
   "id": "f4540292",
   "metadata": {},
   "source": [
    "### This is a class test for the group presentation"
   ]
  },
  {
   "cell_type": "code",
   "execution_count": 1,
   "id": "cdb9c956",
   "metadata": {},
   "outputs": [
    {
     "data": {
      "text/plain": [
       "'Sheilla Nancy Silvia Pelly'"
      ]
     },
     "execution_count": 1,
     "metadata": {},
     "output_type": "execute_result"
    }
   ],
   "source": [
    "pandas_members = \"Sheilla Nancy Silvia Pelly\"\n",
    "pandas_members"
   ]
  }
 ],
 "metadata": {
  "kernelspec": {
   "display_name": "datascience",
   "language": "python",
   "name": "python3"
  },
  "language_info": {
   "codemirror_mode": {
    "name": "ipython",
    "version": 3
   },
   "file_extension": ".py",
   "mimetype": "text/x-python",
   "name": "python",
   "nbconvert_exporter": "python",
   "pygments_lexer": "ipython3",
   "version": "3.11.13"
  }
 },
 "nbformat": 4,
 "nbformat_minor": 5
}
